{
 "cells": [
  {
   "cell_type": "code",
   "execution_count": 1,
   "metadata": {
    "cell_id": "e264a71bbb804496b97415b7e663071d",
    "deepnote_cell_type": "code",
    "deepnote_to_be_reexecuted": false,
    "execution_millis": 2983,
    "execution_start": 1701377566841,
    "source_hash": null
   },
   "outputs": [],
   "source": [
    "import numpy as np\n",
    "import pandas as pd\n",
    "from sklearn.feature_extraction import text\n",
    "from sklearn.metrics.pairwise import cosine_similarity\n",
    "import plotly.express as px\n",
    "import plotly.graph_objects as go"
   ]
  },
  {
   "cell_type": "markdown",
   "metadata": {},
   "source": [
    "taking just the first 40,000 rows for increasing computational efficiency"
   ]
  },
  {
   "cell_type": "code",
   "execution_count": 2,
   "metadata": {
    "cell_id": "3381165d25d94f0bbe5ad3c276e25b45",
    "deepnote_cell_type": "code",
    "deepnote_to_be_reexecuted": false,
    "execution_millis": 2767,
    "execution_start": 1701377588274,
    "source_hash": null
   },
   "outputs": [],
   "source": [
    "data = pd.read_csv(\"News.csv\")\n",
    "data = data.head(40000)"
   ]
  },
  {
   "cell_type": "code",
   "execution_count": 3,
   "metadata": {
    "cell_id": "6a8e6c85f1194e8ca0beb74c80d25a0a",
    "deepnote_cell_type": "code",
    "deepnote_to_be_reexecuted": false,
    "execution_start": 1701378001021,
    "source_hash": null
   },
   "outputs": [],
   "source": [
    "features = data[\"Title\"].tolist()\n",
    "tfidf = text.TfidfVectorizer(stop_words=\"english\")\n",
    "tfidf_mat = tfidf.fit_transform(features)"
   ]
  },
  {
   "cell_type": "code",
   "execution_count": 4,
   "metadata": {},
   "outputs": [],
   "source": [
    "similarity = cosine_similarity(tfidf_mat)"
   ]
  },
  {
   "cell_type": "code",
   "execution_count": 5,
   "metadata": {
    "cell_id": "d57cb103e6bd4c23974cff1941360093",
    "deepnote_cell_type": "code"
   },
   "outputs": [],
   "source": [
    "indices = pd.Series(data.index, index=data['Title']).drop_duplicates()"
   ]
  },
  {
   "cell_type": "markdown",
   "metadata": {},
   "source": [
    "the recommendation model"
   ]
  },
  {
   "cell_type": "code",
   "execution_count": 6,
   "metadata": {},
   "outputs": [],
   "source": [
    "def news_recommendation(Title, similarity = similarity):\n",
    "    index = indices[Title]\n",
    "    similarity_scores = list(enumerate(similarity[index]))\n",
    "    similarity_scores = sorted(similarity_scores, \n",
    "    key=lambda x: x[1], reverse=True)\n",
    "    similarity_scores = similarity_scores[0:10]\n",
    "    newsindices = [i[0] for i in similarity_scores]\n",
    "    return data['Title'].iloc[newsindices]"
   ]
  },
  {
   "cell_type": "code",
   "execution_count": 7,
   "metadata": {},
   "outputs": [
    {
     "name": "stdout",
     "output_type": "stream",
     "text": [
      "1          Walmart Slashes Prices on Last-Generation iPads\n",
      "32839                  Inside the next generation of irons\n",
      "37970    Walmart and Kroger Undercut Drugstore Chains' ...\n",
      "39634    Federal Reserve slashes interest rates for thi...\n",
      "9377         Meet the Next Generation of Texas Pit Masters\n",
      "2132          CEO slashes own salary to pay employees $70K\n",
      "19118    J&J slashes third-quarter profit by $3 billion...\n",
      "6108     Six pack abs are the biggest scam of our gener...\n",
      "15042                      Gas Prices Drop Across Michigan\n",
      "4511     Next-generation Kia Optima spied for the first...\n",
      "Name: Title, dtype: object\n"
     ]
    }
   ],
   "source": [
    "print(news_recommendation(\"Walmart Slashes Prices on Last-Generation iPads\"))"
   ]
  },
  {
   "cell_type": "code",
   "execution_count": 8,
   "metadata": {},
   "outputs": [
    {
     "name": "stdout",
     "output_type": "stream",
     "text": [
      "22       Rye football wins 2019 rendition of The Game, ...\n",
      "21997    Married for six decades, couple wins Franklin'...\n",
      "11301    Marvin Harrison Jr., son of Hall of Fame recei...\n",
      "20687    Rye city manager resigns, continuing unstable ...\n",
      "14205    2019 Gopher Football NCAA Redshirt Tracker thr...\n",
      "5042     San Francisco 49ers vs. Arizona Cardinals pick...\n",
      "30127    Nationals force Game 7 as road team wins sixth...\n",
      "33445    2019 ALCS Game 3: Astros vs. Yankees, and 2019...\n",
      "8390     Michigan high school football playoff schedule...\n",
      "36935    Arizona State vs. Utah picks, predictions: Who...\n",
      "Name: Title, dtype: object\n"
     ]
    }
   ],
   "source": [
    "print(news_recommendation(\"Rye football wins 2019 rendition of The Game, clobbers Harrison\"))"
   ]
  }
 ],
 "metadata": {
  "deepnote": {},
  "deepnote_execution_queue": [],
  "deepnote_notebook_id": "527c6d614f414c56997ab0a1b2893dfd",
  "kernelspec": {
   "display_name": "Python 3",
   "language": "python",
   "name": "python3"
  },
  "language_info": {
   "codemirror_mode": {
    "name": "ipython",
    "version": 3
   },
   "file_extension": ".py",
   "mimetype": "text/x-python",
   "name": "python",
   "nbconvert_exporter": "python",
   "pygments_lexer": "ipython3",
   "version": "3.11.5"
  }
 },
 "nbformat": 4,
 "nbformat_minor": 4
}
